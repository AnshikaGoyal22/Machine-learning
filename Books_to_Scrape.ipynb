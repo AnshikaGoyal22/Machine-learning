{
  "nbformat": 4,
  "nbformat_minor": 0,
  "metadata": {
    "colab": {
      "provenance": [],
      "authorship_tag": "ABX9TyNt7SFaI9dQZYOg8Epxfinv",
      "include_colab_link": true
    },
    "kernelspec": {
      "name": "python3",
      "display_name": "Python 3"
    },
    "language_info": {
      "name": "python"
    }
  },
  "cells": [
    {
      "cell_type": "markdown",
      "metadata": {
        "id": "view-in-github",
        "colab_type": "text"
      },
      "source": [
        "<a href=\"https://colab.research.google.com/github/AnshikaGoyal22/Machine-learning/blob/main/Books_to_Scrape.ipynb\" target=\"_parent\"><img src=\"https://colab.research.google.com/assets/colab-badge.svg\" alt=\"Open In Colab\"/></a>"
      ]
    },
    {
      "cell_type": "code",
      "execution_count": 1,
      "metadata": {
        "id": "ngztPbLzFxt5"
      },
      "outputs": [],
      "source": [
        "import requests\n",
        "from bs4 import BeautifulSoup\n",
        "import pandas as pd"
      ]
    },
    {
      "cell_type": "code",
      "source": [
        "url = \"http://books.toscrape.com/\"\n",
        "response = requests.get(url)\n",
        "print(response.status_code)"
      ],
      "metadata": {
        "colab": {
          "base_uri": "https://localhost:8080/"
        },
        "id": "0kO5QncUIJqe",
        "outputId": "67ebfcb2-7733-49c8-80ca-9f4543c498cc"
      },
      "execution_count": 2,
      "outputs": [
        {
          "output_type": "stream",
          "name": "stdout",
          "text": [
            "200\n"
          ]
        }
      ]
    },
    {
      "cell_type": "code",
      "source": [
        "soup = BeautifulSoup(response.content, 'html.parser')\n",
        "\n",
        "books = soup.find_all('article', class_='product_pod')\n",
        "\n",
        "data = []\n",
        "for book in books:\n",
        "    title = book.h3.a['title']\n",
        "    price = book.find('p', class_='price_color').text\n",
        "    rating_class = book.p['class']\n",
        "    # The rating is in class name e.g 'star-rating Three'\n",
        "    rating = rating_class[1] if len(rating_class) > 1 else 'No rating'\n",
        "    data.append({'Title': title, 'Price': price, 'Rating': rating})\n",
        "\n",
        "df_books = pd.DataFrame(data)\n",
        "print(df_books.head(10))"
      ],
      "metadata": {
        "colab": {
          "base_uri": "https://localhost:8080/"
        },
        "id": "yxddPZH0IWxO",
        "outputId": "d2496750-25ec-44b6-8625-0fb197d87bcd"
      },
      "execution_count": 3,
      "outputs": [
        {
          "output_type": "stream",
          "name": "stdout",
          "text": [
            "                                               Title   Price Rating\n",
            "0                               A Light in the Attic  £51.77  Three\n",
            "1                                 Tipping the Velvet  £53.74    One\n",
            "2                                         Soumission  £50.10    One\n",
            "3                                      Sharp Objects  £47.82   Four\n",
            "4              Sapiens: A Brief History of Humankind  £54.23   Five\n",
            "5                                    The Requiem Red  £22.65    One\n",
            "6  The Dirty Little Secrets of Getting Your Dream...  £33.34   Four\n",
            "7  The Coming Woman: A Novel Based on the Life of...  £17.93  Three\n",
            "8  The Boys in the Boat: Nine Americans and Their...  £22.60   Four\n",
            "9                                    The Black Maria  £52.15    One\n"
          ]
        }
      ]
    },
    {
      "cell_type": "code",
      "source": [
        "df_books.to_csv('books_list.csv', index=False)"
      ],
      "metadata": {
        "id": "dcGHDeypIleT"
      },
      "execution_count": 4,
      "outputs": []
    }
  ]
}